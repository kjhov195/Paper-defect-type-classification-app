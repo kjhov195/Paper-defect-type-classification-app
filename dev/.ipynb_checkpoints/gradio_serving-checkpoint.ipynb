{
 "cells": [
  {
   "cell_type": "code",
   "execution_count": 1,
   "id": "aa569a1e",
   "metadata": {},
   "outputs": [],
   "source": [
    "import gradio as gr"
   ]
  },
  {
   "cell_type": "code",
   "execution_count": 2,
   "id": "217ff995",
   "metadata": {
    "scrolled": true
   },
   "outputs": [],
   "source": [
    "from predict_target import load_model, predict_file"
   ]
  },
  {
   "cell_type": "code",
   "execution_count": 3,
   "id": "f1d9482b",
   "metadata": {},
   "outputs": [
    {
     "name": "stdout",
     "output_type": "stream",
     "text": [
      "Loading model ...\n"
     ]
    },
    {
     "name": "stderr",
     "output_type": "stream",
     "text": [
      "5it [00:24,  4.84s/it]\n"
     ]
    }
   ],
   "source": [
    "models = load_model()"
   ]
  },
  {
   "cell_type": "code",
   "execution_count": 19,
   "id": "db5dd170",
   "metadata": {},
   "outputs": [],
   "source": [
    "def classify(file_obj):\n",
    "    label = predict_file(models, file_obj.name)\n",
    "    return file_obj.name, label"
   ]
  },
  {
   "cell_type": "code",
   "execution_count": 27,
   "id": "293015f8",
   "metadata": {},
   "outputs": [
    {
     "name": "stdout",
     "output_type": "stream",
     "text": [
      "Running on local URL:  http://127.0.0.1:7879\n",
      "Running on public URL: https://18839d8614e5ee70a2.gradio.live\n",
      "\n",
      "This share link expires in 72 hours. For free permanent hosting and GPU upgrades, run `gradio deploy` from Terminal to deploy to Spaces (https://huggingface.co/spaces)\n"
     ]
    },
    {
     "data": {
      "text/html": [
       "<div><iframe src=\"https://18839d8614e5ee70a2.gradio.live\" width=\"100%\" height=\"500\" allow=\"autoplay; camera; microphone; clipboard-read; clipboard-write;\" frameborder=\"0\" allowfullscreen></iframe></div>"
      ],
      "text/plain": [
       "<IPython.core.display.HTML object>"
      ]
     },
     "metadata": {},
     "output_type": "display_data"
    },
    {
     "data": {
      "text/plain": []
     },
     "execution_count": 27,
     "metadata": {},
     "output_type": "execute_result"
    }
   ],
   "source": [
    "gr.Interface(classify, gr.File(file_types=[\"image\"]), [gr.Image(type='filepath'), \"text\"]).launch(share=True)\n",
    "# gr.Interface(classify, \"file\", [gr.Image(type='filepath').style(height=500), \"text\"]).launch(share=True)"
   ]
  },
  {
   "cell_type": "code",
   "execution_count": null,
   "id": "deb4b047",
   "metadata": {},
   "outputs": [],
   "source": []
  }
 ],
 "metadata": {
  "kernelspec": {
   "display_name": "Python 3 (ipykernel)",
   "language": "python",
   "name": "python3"
  },
  "language_info": {
   "codemirror_mode": {
    "name": "ipython",
    "version": 3
   },
   "file_extension": ".py",
   "mimetype": "text/x-python",
   "name": "python",
   "nbconvert_exporter": "python",
   "pygments_lexer": "ipython3",
   "version": "3.9.7"
  }
 },
 "nbformat": 4,
 "nbformat_minor": 5
}
